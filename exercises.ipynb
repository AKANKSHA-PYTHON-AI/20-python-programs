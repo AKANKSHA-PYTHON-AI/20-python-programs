{
 "cells": [
  {
   "cell_type": "markdown",
   "id": "98cb0cd4-250f-4bf0-8482-d26e5c6e4281",
   "metadata": {},
   "source": [
    "# 20 Python code snippets that may br useful for every day problems"
   ]
  },
  {
   "cell_type": "markdown",
   "id": "86f873ba-ba22-41a1-b382-f7ffb42bad11",
   "metadata": {},
   "source": [
    "## 1. reversing a string"
   ]
  },
  {
   "cell_type": "code",
   "execution_count": 1,
   "id": "8b824c21-6faa-44cb-802a-3bec8fb4bce7",
   "metadata": {},
   "outputs": [
    {
     "data": {
      "text/plain": [
       "'taerg si dniknaM'"
      ]
     },
     "execution_count": 1,
     "metadata": {},
     "output_type": "execute_result"
    }
   ],
   "source": [
    "string = \"Mankind is great\"\n",
    "rev_string = string[::-1]\n",
    "rev_string"
   ]
  },
  {
   "cell_type": "markdown",
   "id": "60aaf63b-a10b-4fd2-a04d-84555aa59d8d",
   "metadata": {},
   "source": [
    "## 2.checking if a string contains a sub string"
   ]
  },
  {
   "cell_type": "code",
   "execution_count": 2,
   "id": "583d7d37-98e2-4a44-a8a9-f075d5d4aa87",
   "metadata": {},
   "outputs": [
    {
     "name": "stdout",
     "output_type": "stream",
     "text": [
      "Sub string found\n"
     ]
    }
   ],
   "source": [
    "string = \"There was a man long ago who was ver powerful\"\n",
    "sub_string = 'ago'\n",
    "if sub_string in string:\n",
    "    print(\"Sub string found\")\n"
   ]
  },
  {
   "cell_type": "markdown",
   "id": "c3f5906f-e54c-4ce2-b7c4-927bba2739c9",
   "metadata": {},
   "source": [
    "## 3.finding maximum value in a list"
   ]
  },
  {
   "cell_type": "code",
   "execution_count": 4,
   "id": "1d72897b-784a-40d2-adf4-b03625df8c10",
   "metadata": {},
   "outputs": [
    {
     "data": {
      "text/plain": [
       "9"
      ]
     },
     "execution_count": 4,
     "metadata": {},
     "output_type": "execute_result"
    }
   ],
   "source": [
    "num = [1,6,4,3,9,8,0]\n",
    "max_value = max(num)\n",
    "max_value"
   ]
  },
  {
   "cell_type": "markdown",
   "id": "11f29526-3e42-48f2-8648-574d5c74d137",
   "metadata": {},
   "source": [
    "## 4.finding the index of the maximum value in a list"
   ]
  },
  {
   "cell_type": "code",
   "execution_count": 6,
   "id": "5d877ef5-82f1-4e64-8ae1-adacbd4b889e",
   "metadata": {},
   "outputs": [
    {
     "data": {
      "text/plain": [
       "3"
      ]
     },
     "execution_count": 6,
     "metadata": {},
     "output_type": "execute_result"
    }
   ],
   "source": [
    "my_list = [1,5,3,9,2]\n",
    "max_index = my_list.index(max(my_list))\n",
    "max_index"
   ]
  },
  {
   "cell_type": "markdown",
   "id": "8fa94ab7-f8af-49ce-9a73-5317e3a3aba7",
   "metadata": {},
   "source": [
    "## 5.reversing a list"
   ]
  },
  {
   "cell_type": "code",
   "execution_count": 7,
   "id": "cfded8e2-f240-4bcf-8bbb-c5bf5865ecdf",
   "metadata": {},
   "outputs": [
    {
     "data": {
      "text/plain": [
       "[0, 3, 8, 4, 8, 5]"
      ]
     },
     "execution_count": 7,
     "metadata": {},
     "output_type": "execute_result"
    }
   ],
   "source": [
    "my_list = [5,8,4,8,3,0]\n",
    "rev_list = my_list[::-1]\n",
    "rev_list"
   ]
  },
  {
   "cell_type": "markdown",
   "id": "58250863-c7e7-4a0c-946b-9794ddd85aea",
   "metadata": {},
   "source": [
    "## 6.removing duplicates from the list"
   ]
  },
  {
   "cell_type": "code",
   "execution_count": 8,
   "id": "e7beae74-ba59-4a7f-8c5d-8e8598012a3b",
   "metadata": {},
   "outputs": [
    {
     "data": {
      "text/plain": [
       "[0, 2, 3, 4, 7, 8]"
      ]
     },
     "execution_count": 8,
     "metadata": {},
     "output_type": "execute_result"
    }
   ],
   "source": [
    "list1 = [8,0,4,8,3,0,2,7,3]\n",
    "list1 = list(set(list1))\n",
    "list1\n"
   ]
  },
  {
   "cell_type": "markdown",
   "id": "04fbfe04-a04f-43d4-80a3-e514f262bf2f",
   "metadata": {},
   "source": [
    "## 7.checking if list is empty"
   ]
  },
  {
   "cell_type": "code",
   "execution_count": 9,
   "id": "ee1a3b51-0c44-4a9f-902f-534981415eb5",
   "metadata": {},
   "outputs": [
    {
     "name": "stdout",
     "output_type": "stream",
     "text": [
      "List is empty\n"
     ]
    }
   ],
   "source": [
    "my_list = []\n",
    "if not my_list:\n",
    "    print(\"List is empty\")"
   ]
  },
  {
   "cell_type": "markdown",
   "id": "db839b48-84a3-4f9f-a7b4-b373048dd1da",
   "metadata": {},
   "source": [
    "## 8.converting a string into list"
   ]
  },
  {
   "cell_type": "code",
   "execution_count": 10,
   "id": "b99743b4-7c2d-4c01-a7ff-37185d536fee",
   "metadata": {},
   "outputs": [
    {
     "data": {
      "text/plain": [
       "['h', 'e', 'l', 'l', 'o', ' ', 'p', 'y', 't', 'h', 'o', 'n']"
      ]
     },
     "execution_count": 10,
     "metadata": {},
     "output_type": "execute_result"
    }
   ],
   "source": [
    "string = 'hello python'\n",
    "list1 = list(string)\n",
    "list1"
   ]
  },
  {
   "cell_type": "markdown",
   "id": "6c99dc1e-4267-4b2d-acc2-d66afb73e26c",
   "metadata": {},
   "source": [
    "## 9.sorting a dictionary by value"
   ]
  },
  {
   "cell_type": "code",
   "execution_count": 11,
   "id": "60e93c9f-5a15-4638-8656-ee6673e37bda",
   "metadata": {},
   "outputs": [
    {
     "data": {
      "text/plain": [
       "{'banana': 1, 'guava': 2, 'apple': 3, 'orange': 4}"
      ]
     },
     "execution_count": 11,
     "metadata": {},
     "output_type": "execute_result"
    }
   ],
   "source": [
    "my_dict = {'apple':3,'banana':1,'orange':4,'guava':2}\n",
    "sorted_dict = {k: v for k,v in sorted(my_dict.items(),key = lambda item: item[1])}\n",
    "sorted_dict"
   ]
  },
  {
   "cell_type": "markdown",
   "id": "1f5d41d3-5dcc-4553-b2e8-6cb8c80d9768",
   "metadata": {},
   "source": [
    "## 10.checking if a file exists"
   ]
  },
  {
   "cell_type": "code",
   "execution_count": 14,
   "id": "d4772313-605f-47ba-b6a2-6587f3a4ecb6",
   "metadata": {},
   "outputs": [
    {
     "name": "stdout",
     "output_type": "stream",
     "text": [
      "File exists!\n"
     ]
    }
   ],
   "source": [
    "import os\n",
    "if os.path.isfile(\"file.txt\"):\n",
    "    print(\"File exists!\")\n",
    "else:\n",
    "    print(\"File does not exists!\")"
   ]
  },
  {
   "cell_type": "markdown",
   "id": "dc1440c7-2e4c-469d-9a9b-512a3103ee04",
   "metadata": {},
   "source": [
    "## 11.counting occurances of an item in a list"
   ]
  },
  {
   "cell_type": "code",
   "execution_count": 16,
   "id": "133fca3f-cd3a-47dc-91cc-4b311c34621e",
   "metadata": {},
   "outputs": [
    {
     "data": {
      "text/plain": [
       "9"
      ]
     },
     "execution_count": 16,
     "metadata": {},
     "output_type": "execute_result"
    }
   ],
   "source": [
    "list1 = [1,2,3,4,5,2,7,5,2,2,2,2,2,2,2]\n",
    "count = list1.count(2)\n",
    "count"
   ]
  },
  {
   "cell_type": "markdown",
   "id": "099b2e92-9f44-4905-b57e-2cb164fd18e8",
   "metadata": {},
   "source": [
    "## 12.checking if all elements in a list are unique"
   ]
  },
  {
   "cell_type": "code",
   "execution_count": 18,
   "id": "39ba6710-bafc-45bf-b218-0092d4ee6896",
   "metadata": {},
   "outputs": [
    {
     "name": "stdout",
     "output_type": "stream",
     "text": [
      "All elements are unique!\n"
     ]
    }
   ],
   "source": [
    "list1 = [1,2,3,4,5,6,7]\n",
    "if len(list1) == len(set(list1)):\n",
    "    print(\"All elements are unique!\")\n",
    "else:\n",
    "    print(\"There are duplicates\")"
   ]
  },
  {
   "cell_type": "markdown",
   "id": "96c63943-7d0a-4868-a4b7-f9bcb46d7e0b",
   "metadata": {},
   "source": [
    "## 13.removing all occurances of an item from a list"
   ]
  },
  {
   "cell_type": "code",
   "execution_count": 20,
   "id": "0fad7d34-9325-4de7-a449-7a493e7e315c",
   "metadata": {},
   "outputs": [
    {
     "data": {
      "text/plain": [
       "[1, 3, 1, 4, 5, 4]"
      ]
     },
     "execution_count": 20,
     "metadata": {},
     "output_type": "execute_result"
    }
   ],
   "source": [
    "list1 = [1,2,3,2,1,4,5,4]\n",
    "item = 2\n",
    "list1 = [x for x in list1 if x!= item]\n",
    "list1"
   ]
  },
  {
   "cell_type": "markdown",
   "id": "f33c116f-dbdf-4c20-9875-aca9499c8bdd",
   "metadata": {},
   "source": [
    "## 14.flattening a nested list"
   ]
  },
  {
   "cell_type": "code",
   "execution_count": 22,
   "id": "1c5870ec-4636-48b8-8140-ab1810aaff4b",
   "metadata": {},
   "outputs": [
    {
     "data": {
      "text/plain": [
       "[1, 2, 3, 4, 5, 6]"
      ]
     },
     "execution_count": 22,
     "metadata": {},
     "output_type": "execute_result"
    }
   ],
   "source": [
    "list1 = [[1,2],[3,4],[5,6]]\n",
    "flattened_list = [x for sublist in list1 for x in sublist]\n",
    "flattened_list"
   ]
  },
  {
   "cell_type": "markdown",
   "id": "937da3e7-32c4-48b8-9db1-55b29ebe7ceb",
   "metadata": {},
   "source": [
    "## 15.merging two dictionaries"
   ]
  },
  {
   "cell_type": "code",
   "execution_count": 27,
   "id": "a9cbfd93-787f-433d-8081-bd2b888d2b0b",
   "metadata": {},
   "outputs": [
    {
     "data": {
      "text/plain": [
       "{'apple': 3, 'banana': 1, 'orange': 2, 'pear': 4}"
      ]
     },
     "execution_count": 27,
     "metadata": {},
     "output_type": "execute_result"
    }
   ],
   "source": [
    "dict1 = {'apple':3,'banana':1}\n",
    "dict2 = {'orange':2,'pear':4}\n",
    "merged_dict = {**dict1,  **dict2}\n",
    "merged_dict"
   ]
  },
  {
   "cell_type": "markdown",
   "id": "233f4447-3aed-4f0f-b5ee-9523d9952afb",
   "metadata": {},
   "source": [
    "## 16.removing all white space from a string"
   ]
  },
  {
   "cell_type": "code",
   "execution_count": 31,
   "id": "1d627996-68c9-4dd0-a858-2360bf99ea82",
   "metadata": {},
   "outputs": [
    {
     "data": {
      "text/plain": [
       "'helloworld'"
      ]
     },
     "execution_count": 31,
     "metadata": {},
     "output_type": "execute_result"
    }
   ],
   "source": [
    "string = '  hello  world '\n",
    "new = \"\".join(string.split())\n",
    "new"
   ]
  },
  {
   "cell_type": "markdown",
   "id": "a2bbaf06-5094-4961-99c9-842836a9f382",
   "metadata": {},
   "source": [
    "## 17.checking if string is palindrome"
   ]
  },
  {
   "cell_type": "code",
   "execution_count": 35,
   "id": "56480fa4-f72c-4fce-83d5-62fe8ccbdfaa",
   "metadata": {},
   "outputs": [
    {
     "name": "stdout",
     "output_type": "stream",
     "text": [
      "it is palindrome\n"
     ]
    }
   ],
   "source": [
    "string = 'racecar'\n",
    "if string == string[::-1]:\n",
    "    print('it is palindrome')\n",
    "else:\n",
    "    print(\"it is not a palindrome\")"
   ]
  },
  {
   "cell_type": "markdown",
   "id": "aa7861de-674f-4eef-8880-a754a74d9049",
   "metadata": {},
   "source": [
    "## 18.removing duplicates from a string"
   ]
  },
  {
   "cell_type": "code",
   "execution_count": 33,
   "id": "d2d7e771-0130-417b-97bf-b0270bcba8fb",
   "metadata": {},
   "outputs": [
    {
     "data": {
      "text/plain": [
       "'ow rdelh'"
      ]
     },
     "execution_count": 33,
     "metadata": {},
     "output_type": "execute_result"
    }
   ],
   "source": [
    "string = 'hello world'\n",
    "new = \"\".join(set(string))\n",
    "new"
   ]
  },
  {
   "cell_type": "markdown",
   "id": "276c814e-fb9e-495d-b7ce-b171f572b7f1",
   "metadata": {},
   "source": [
    "## 19.counting the number of words in a string"
   ]
  },
  {
   "cell_type": "code",
   "execution_count": 36,
   "id": "2ff6a8d9-b874-426b-b4f8-f1439104409b",
   "metadata": {},
   "outputs": [
    {
     "data": {
      "text/plain": [
       "2"
      ]
     },
     "execution_count": 36,
     "metadata": {},
     "output_type": "execute_result"
    }
   ],
   "source": [
    "string = 'hello world'\n",
    "count = len(string.split())\n",
    "count"
   ]
  },
  {
   "cell_type": "markdown",
   "id": "8a8884f1-8dd0-4f5d-903b-18d9ac7770bf",
   "metadata": {},
   "source": [
    "## 20.generating a random number"
   ]
  },
  {
   "cell_type": "code",
   "execution_count": 39,
   "id": "b1b8f394-a37d-414b-a88f-428d043bc4e5",
   "metadata": {},
   "outputs": [
    {
     "data": {
      "text/plain": [
       "16"
      ]
     },
     "execution_count": 39,
     "metadata": {},
     "output_type": "execute_result"
    }
   ],
   "source": [
    "import random\n",
    "random_num = random.randint(1,100)\n",
    "random_num"
   ]
  },
  {
   "cell_type": "code",
   "execution_count": null,
   "id": "cf2ce472-b465-40a3-8616-0749d75685da",
   "metadata": {},
   "outputs": [],
   "source": []
  },
  {
   "cell_type": "code",
   "execution_count": null,
   "id": "d1852b32-bdf5-4de6-8fde-96117b29af8d",
   "metadata": {},
   "outputs": [],
   "source": []
  }
 ],
 "metadata": {
  "kernelspec": {
   "display_name": "Python [conda env:base] *",
   "language": "python",
   "name": "conda-base-py"
  },
  "language_info": {
   "codemirror_mode": {
    "name": "ipython",
    "version": 3
   },
   "file_extension": ".py",
   "mimetype": "text/x-python",
   "name": "python",
   "nbconvert_exporter": "python",
   "pygments_lexer": "ipython3",
   "version": "3.13.5"
  }
 },
 "nbformat": 4,
 "nbformat_minor": 5
}
