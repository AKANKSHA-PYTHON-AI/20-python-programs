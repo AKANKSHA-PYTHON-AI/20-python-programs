{
 "cells": [
  {
   "cell_type": "markdown",
   "id": "f2ab76f3-f743-41c1-9950-6396221d9c02",
   "metadata": {},
   "source": [
    "# 10 mini python programs"
   ]
  },
  {
   "cell_type": "markdown",
   "id": "5720ce0c-7cce-40d2-bed0-6e735342a67f",
   "metadata": {},
   "source": [
    "## 1.sum of numbers from 1 to 100"
   ]
  },
  {
   "cell_type": "code",
   "execution_count": 1,
   "id": "7eeb6557-7001-4c05-9472-c76e4e574f3b",
   "metadata": {},
   "outputs": [
    {
     "name": "stdout",
     "output_type": "stream",
     "text": [
      "5050\n"
     ]
    }
   ],
   "source": [
    "sum = 0\n",
    "for i in range(1,101):\n",
    "    sum += i\n",
    "print(sum)\n",
    "    "
   ]
  },
  {
   "cell_type": "markdown",
   "id": "e9df85c4-6eaf-4d6d-b662-2c46eb526942",
   "metadata": {},
   "source": [
    "## 2.getting max value from a list without using any method"
   ]
  },
  {
   "cell_type": "code",
   "execution_count": 2,
   "id": "9fcb4290-30fe-41c4-98fa-ed1e41c5f703",
   "metadata": {},
   "outputs": [
    {
     "name": "stdout",
     "output_type": "stream",
     "text": [
      "93\n"
     ]
    }
   ],
   "source": [
    "lst1 = [7,5,9,20,4,6,8,93,7,8,3]\n",
    "max_val = 0\n",
    "for i in lst1:\n",
    "    if i > max_val:\n",
    "        max_val = i\n",
    "print(max_val)"
   ]
  },
  {
   "cell_type": "markdown",
   "id": "e61eac45-0b3d-4444-92db-0be331d75f9e",
   "metadata": {},
   "source": [
    "## 3.drawing a tringle pattern"
   ]
  },
  {
   "cell_type": "code",
   "execution_count": 3,
   "id": "8ba7bbf6-9108-4aba-bd0c-bcb4f57f66c1",
   "metadata": {},
   "outputs": [
    {
     "name": "stdin",
     "output_type": "stream",
     "text": [
      "Enter any number :  5\n"
     ]
    },
    {
     "name": "stdout",
     "output_type": "stream",
     "text": [
      "*\n",
      "**\n",
      "***\n",
      "****\n",
      "*****\n"
     ]
    }
   ],
   "source": [
    "n = int(input('Enter any number : '))  # right triangle\n",
    "for i in range(1,n+1):\n",
    "    print('*'*i)                      "
   ]
  },
  {
   "cell_type": "code",
   "execution_count": 4,
   "id": "35ff5aa6-265e-4983-9087-79ceb24a5d73",
   "metadata": {},
   "outputs": [
    {
     "name": "stdin",
     "output_type": "stream",
     "text": [
      "Enter rows:  5\n"
     ]
    },
    {
     "name": "stdout",
     "output_type": "stream",
     "text": [
      "*****\n",
      "****\n",
      "***\n",
      "**\n",
      "*\n"
     ]
    }
   ],
   "source": [
    "rows = int(input(\"Enter rows: \"))\n",
    "for i in range(rows,0,-1):\n",
    "    print('*'*i)"
   ]
  },
  {
   "cell_type": "code",
   "execution_count": 5,
   "id": "9a4dfda1-d8f6-4528-8e88-f35e0dd83b70",
   "metadata": {},
   "outputs": [
    {
     "name": "stdin",
     "output_type": "stream",
     "text": [
      "Enter rows:  5\n"
     ]
    },
    {
     "name": "stdout",
     "output_type": "stream",
     "text": [
      "*****\n",
      " ****\n",
      "  ***\n",
      "   **\n",
      "    *\n"
     ]
    }
   ],
   "source": [
    "rows = int(input(\"Enter rows: \"))\n",
    "for i in range(rows,0,-1):\n",
    "    print(\" \"*(rows-i) + \"*\"*i)"
   ]
  },
  {
   "cell_type": "code",
   "execution_count": 6,
   "id": "c4a3cfca-5f2f-4ebb-b263-71b544fb3cef",
   "metadata": {},
   "outputs": [
    {
     "name": "stdin",
     "output_type": "stream",
     "text": [
      "Enter rows:  6\n"
     ]
    },
    {
     "name": "stdout",
     "output_type": "stream",
     "text": [
      "***********\n",
      " *********\n",
      "  *******\n",
      "   *****\n",
      "    ***\n",
      "     *\n"
     ]
    }
   ],
   "source": [
    "rows = int(input(\"Enter rows: \"))\n",
    "for i in range(rows,0,-1):\n",
    "    print(\" \"*(rows-i)+\"*\"*(2*i-1))"
   ]
  },
  {
   "cell_type": "markdown",
   "id": "51ed6c29-6264-48d9-a949-27a8b2db0495",
   "metadata": {},
   "source": [
    "## 4.hallow diamond"
   ]
  },
  {
   "cell_type": "code",
   "execution_count": 7,
   "id": "074dd901-c2db-4a73-b1f8-2a2ee78b3449",
   "metadata": {},
   "outputs": [
    {
     "name": "stdin",
     "output_type": "stream",
     "text": [
      "Enter any number :  5\n"
     ]
    },
    {
     "name": "stdout",
     "output_type": "stream",
     "text": [
      "    *\n",
      "   * *\n",
      "  *   *\n",
      " *     *\n",
      "*       *\n",
      " *     *  *   *   * *    *"
     ]
    }
   ],
   "source": [
    "# hollow daimond\n",
    "rows = int(input(\"Enter any number : \"))\n",
    "\n",
    "# upper part \n",
    "for i in  range(1,rows+1):\n",
    "    for j in range(rows-i):\n",
    "        print(\" \",end='')\n",
    "    for j in range(2*i-1):\n",
    "        if j==0 or j == (2*i-2):\n",
    "            print('*',end=\"\")\n",
    "        else:\n",
    "            print(\" \",end=\"\")\n",
    "    print()\n",
    "\n",
    "# lower part \n",
    "for i in range(rows-1,0,-1):\n",
    "    for j in range(rows-i):\n",
    "        print(\" \",end=\"\")\n",
    "    for j in range(2*i-1):\n",
    "        if j == 0 or j == (2*i-2):\n",
    "            print('*',end=\"\")\n",
    "        else:\n",
    "            print(\" \",end=\"\")\n",
    "            \n",
    "        "
   ]
  },
  {
   "cell_type": "markdown",
   "id": "2db91e97-532f-4c74-bb36-4f1289936db3",
   "metadata": {},
   "source": [
    "## 5.palindrome word"
   ]
  },
  {
   "cell_type": "code",
   "execution_count": 8,
   "id": "447d4403-c7fe-4492-bfe1-1f38bc63a476",
   "metadata": {},
   "outputs": [
    {
     "name": "stdin",
     "output_type": "stream",
     "text": [
      "Enter any word:  uugujg\n"
     ]
    },
    {
     "name": "stdout",
     "output_type": "stream",
     "text": [
      "uugujg is not a palindrome.\n"
     ]
    }
   ],
   "source": [
    "word = input(\"Enter any word: \")\n",
    "if word == word[::-1]:\n",
    "    print(f\"{word} is a palindrome.\")\n",
    "else:\n",
    "    print(f\"{word} is not a palindrome.\")"
   ]
  },
  {
   "cell_type": "markdown",
   "id": "047ec32e-9b7b-4b45-a3b3-3382c478ce12",
   "metadata": {},
   "source": [
    "## 6.prime number"
   ]
  },
  {
   "cell_type": "code",
   "execution_count": 9,
   "id": "76bc5b53-4a64-40f1-9da0-4ca530adf9be",
   "metadata": {},
   "outputs": [
    {
     "name": "stdin",
     "output_type": "stream",
     "text": [
      "Enter any number :  5\n"
     ]
    },
    {
     "name": "stdout",
     "output_type": "stream",
     "text": [
      "5 is prime number.\n"
     ]
    }
   ],
   "source": [
    "num = int(input(\"Enter any number : \"))\n",
    "if num%2 != 0:\n",
    "    print(f\"{num} is prime number.\")\n",
    "else:\n",
    "    print(f\"{num} is not a prime number.\")\n",
    "    "
   ]
  },
  {
   "cell_type": "markdown",
   "id": "c062d268-e519-48ef-bb71-b60739727289",
   "metadata": {},
   "source": [
    "## 7.multiplication table"
   ]
  },
  {
   "cell_type": "code",
   "execution_count": 13,
   "id": "221f63aa-16ae-4034-9698-c3370d084a2e",
   "metadata": {},
   "outputs": [
    {
     "name": "stdin",
     "output_type": "stream",
     "text": [
      "Enter any number :  8\n"
     ]
    },
    {
     "name": "stdout",
     "output_type": "stream",
     "text": [
      "8 x 1 = 8\n",
      "8 x 2 = 16\n",
      "8 x 3 = 24\n",
      "8 x 4 = 32\n",
      "8 x 5 = 40\n",
      "8 x 6 = 48\n",
      "8 x 7 = 56\n",
      "8 x 8 = 64\n",
      "8 x 9 = 72\n",
      "8 x 10 = 80\n"
     ]
    }
   ],
   "source": [
    "num = int(input(\"Enter any number : \"))\n",
    "for i in range(1,11):\n",
    "    print(f\"{num} x {i} = {num*i}\")"
   ]
  },
  {
   "cell_type": "code",
   "execution_count": null,
   "id": "4ff55f42-b9dc-4fd1-8fa1-5ca9afb094ee",
   "metadata": {},
   "outputs": [],
   "source": [
    "## 8."
   ]
  }
 ],
 "metadata": {
  "kernelspec": {
   "display_name": "Python [conda env:base] *",
   "language": "python",
   "name": "conda-base-py"
  },
  "language_info": {
   "codemirror_mode": {
    "name": "ipython",
    "version": 3
   },
   "file_extension": ".py",
   "mimetype": "text/x-python",
   "name": "python",
   "nbconvert_exporter": "python",
   "pygments_lexer": "ipython3",
   "version": "3.13.5"
  }
 },
 "nbformat": 4,
 "nbformat_minor": 5
}
