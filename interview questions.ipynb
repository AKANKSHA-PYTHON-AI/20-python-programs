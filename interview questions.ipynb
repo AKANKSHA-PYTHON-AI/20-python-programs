{
 "cells": [
  {
   "cell_type": "markdown",
   "id": "199b95d2-afc2-4eb9-a9ed-b8684dec8f56",
   "metadata": {},
   "source": [
    "### 1.write a python program to find out common letters b/w two strings"
   ]
  },
  {
   "cell_type": "code",
   "execution_count": 2,
   "id": "06c61a55-d666-4a88-8f52-146eac23402b",
   "metadata": {},
   "outputs": [
    {
     "name": "stdin",
     "output_type": "stream",
     "text": [
      "Enter first string :  apple\n",
      "Enter second string :  cherry\n"
     ]
    },
    {
     "name": "stdout",
     "output_type": "stream",
     "text": [
      "{'l', 'a', 'p', 'e'}\n",
      "{'c', 'h', 'e', 'r', 'y'}\n",
      "{'e'}\n"
     ]
    }
   ],
   "source": [
    "def common_letters():\n",
    "    str1 = input(\"Enter first string : \")\n",
    "    str2 = input(\"Enter second string : \")\n",
    "    s1 = set(str1)\n",
    "    s2 = set(str2)\n",
    "    print(s1)\n",
    "    print(s2)\n",
    "    lst = s1&s2\n",
    "    print(lst)\n",
    "\n",
    "\n",
    "common_letters()"
   ]
  },
  {
   "cell_type": "markdown",
   "id": "35eabdf1-8cb7-4489-b5bb-e51155c2353b",
   "metadata": {},
   "source": [
    "### 2.write a python program to count the freqency of words appearing in a string"
   ]
  },
  {
   "cell_type": "code",
   "execution_count": 4,
   "id": "0118e2f4-82a6-4534-b7ef-16f9aa171f6c",
   "metadata": {},
   "outputs": [
    {
     "name": "stdin",
     "output_type": "stream",
     "text": [
      "Enter a string :  a black pot is on the black table in the black room\n"
     ]
    },
    {
     "name": "stdout",
     "output_type": "stream",
     "text": [
      "{'a': 1, 'black': 3, 'pot': 1, 'is': 1, 'on': 1, 'the': 2, 'table': 1, 'in': 1, 'room': 1}\n"
     ]
    }
   ],
   "source": [
    "def freq_words():\n",
    "    str1 = input(\"Enter a string : \")\n",
    "    lst1 = str1.split()\n",
    "    d = {}\n",
    "    for i in lst1:\n",
    "        if i not in d.keys():\n",
    "            d[i] = 0\n",
    "        d[i] = d[i] + 1\n",
    "    print(d)\n",
    "freq_words()"
   ]
  },
  {
   "cell_type": "markdown",
   "id": "16a708bb-426d-4a3f-a907-2c296aea85de",
   "metadata": {},
   "source": [
    "### 3.write a python program to convert two lists into dictinary"
   ]
  },
  {
   "cell_type": "code",
   "execution_count": 1,
   "id": "f46e0447-4c7b-4a34-9b32-11d399ac544a",
   "metadata": {},
   "outputs": [
    {
     "name": "stdout",
     "output_type": "stream",
     "text": [
      "{1: 'one', 2: 'two', 3: 'three'}\n"
     ]
    }
   ],
   "source": [
    "def lst_to_dict():\n",
    "    keys = [1,2,3]\n",
    "    values = ['one','two','three']\n",
    "    result = dict(zip(keys,values))\n",
    "    print(result)\n",
    "lst_to_dict()"
   ]
  },
  {
   "cell_type": "code",
   "execution_count": 3,
   "id": "58a0342b-291f-484b-be7a-22c1ad689216",
   "metadata": {},
   "outputs": [
    {
     "name": "stdout",
     "output_type": "stream",
     "text": [
      "(1, 'one')\n",
      "(2, 'two')\n",
      "(3, 'three')\n"
     ]
    }
   ],
   "source": [
    "def dict_to_tup():\n",
    "    x = {1: 'one', 2: 'two', 3: 'three'}\n",
    "    for i in x.items():\n",
    "        print(i)\n",
    "dict_to_tup()"
   ]
  },
  {
   "cell_type": "markdown",
   "id": "b2ed586e-9c32-4f05-93df-f9f4ba8d3ad6",
   "metadata": {},
   "source": [
    "### 4.find missing number in an array (using summation nd xor operation)"
   ]
  },
  {
   "cell_type": "code",
   "execution_count": 5,
   "id": "253c369e-34a8-4605-b2cf-a728ad4c3ac4",
   "metadata": {},
   "outputs": [
    {
     "name": "stdout",
     "output_type": "stream",
     "text": [
      "3.0\n"
     ]
    }
   ],
   "source": [
    "def get_missing_summation(a):\n",
    "    n = a[-1]\n",
    "    sum1 = 0\n",
    "    total = n*(n+1)/2\n",
    "    sum1 = sum(a)\n",
    "    print(total - sum1)\n",
    "\n",
    "\n",
    "def get_missing_xor(a):\n",
    "    n = len(a)\n",
    "    xor_a = a[0]\n",
    "    for index in range(1,n):\n",
    "        xor_a = xor_a^a[index]\n",
    "    x2 = 0\n",
    "    for index in range(1,n+2):\n",
    "        x2 = x2^index\n",
    "    print(xor_a^2)  \n",
    "\n",
    "a = [1,2,4,5,6,7]\n",
    "get_missing_summation(a)\n",
    "    "
   ]
  },
  {
   "cell_type": "code",
   "execution_count": null,
   "id": "b4c8a0fa-55c0-4897-b089-992617b974b1",
   "metadata": {},
   "outputs": [],
   "source": []
  },
  {
   "cell_type": "code",
   "execution_count": null,
   "id": "8f20f686-9043-44e3-ae7d-37b0345915d9",
   "metadata": {},
   "outputs": [],
   "source": []
  }
 ],
 "metadata": {
  "kernelspec": {
   "display_name": "Python [conda env:base] *",
   "language": "python",
   "name": "conda-base-py"
  },
  "language_info": {
   "codemirror_mode": {
    "name": "ipython",
    "version": 3
   },
   "file_extension": ".py",
   "mimetype": "text/x-python",
   "name": "python",
   "nbconvert_exporter": "python",
   "pygments_lexer": "ipython3",
   "version": "3.13.5"
  }
 },
 "nbformat": 4,
 "nbformat_minor": 5
}
