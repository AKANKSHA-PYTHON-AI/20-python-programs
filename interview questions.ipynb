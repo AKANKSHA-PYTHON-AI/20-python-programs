{
 "cells": [
  {
   "cell_type": "markdown",
   "id": "199b95d2-afc2-4eb9-a9ed-b8684dec8f56",
   "metadata": {},
   "source": [
    "### 1.write a python program to find out common letters b/w two strings"
   ]
  },
  {
   "cell_type": "code",
   "execution_count": 2,
   "id": "06c61a55-d666-4a88-8f52-146eac23402b",
   "metadata": {},
   "outputs": [
    {
     "name": "stdin",
     "output_type": "stream",
     "text": [
      "Enter first string :  apple\n",
      "Enter second string :  cherry\n"
     ]
    },
    {
     "name": "stdout",
     "output_type": "stream",
     "text": [
      "{'l', 'a', 'p', 'e'}\n",
      "{'c', 'h', 'e', 'r', 'y'}\n",
      "{'e'}\n"
     ]
    }
   ],
   "source": [
    "def common_letters():\n",
    "    str1 = input(\"Enter first string : \")\n",
    "    str2 = input(\"Enter second string : \")\n",
    "    s1 = set(str1)\n",
    "    s2 = set(str2)\n",
    "    print(s1)\n",
    "    print(s2)\n",
    "    lst = s1&s2\n",
    "    print(lst)\n",
    "\n",
    "\n",
    "common_letters()"
   ]
  },
  {
   "cell_type": "markdown",
   "id": "35eabdf1-8cb7-4489-b5bb-e51155c2353b",
   "metadata": {},
   "source": [
    "### 2.write a python program to count the freqency of words appearing in a string"
   ]
  },
  {
   "cell_type": "code",
   "execution_count": 4,
   "id": "0118e2f4-82a6-4534-b7ef-16f9aa171f6c",
   "metadata": {},
   "outputs": [
    {
     "name": "stdin",
     "output_type": "stream",
     "text": [
      "Enter a string :  a black pot is on the black table in the black room\n"
     ]
    },
    {
     "name": "stdout",
     "output_type": "stream",
     "text": [
      "{'a': 1, 'black': 3, 'pot': 1, 'is': 1, 'on': 1, 'the': 2, 'table': 1, 'in': 1, 'room': 1}\n"
     ]
    }
   ],
   "source": [
    "def freq_words():\n",
    "    str1 = input(\"Enter a string : \")\n",
    "    lst1 = str1.split()\n",
    "    d = {}\n",
    "    for i in lst1:\n",
    "        if i not in d.keys():\n",
    "            d[i] = 0\n",
    "        d[i] = d[i] + 1\n",
    "    print(d)\n",
    "freq_words()"
   ]
  },
  {
   "cell_type": "code",
   "execution_count": null,
   "id": "da962657-ec1c-4366-bea1-0951a73f4559",
   "metadata": {},
   "outputs": [],
   "source": []
  },
  {
   "cell_type": "code",
   "execution_count": null,
   "id": "f46e0447-4c7b-4a34-9b32-11d399ac544a",
   "metadata": {},
   "outputs": [],
   "source": []
  },
  {
   "cell_type": "code",
   "execution_count": null,
   "id": "58a0342b-291f-484b-be7a-22c1ad689216",
   "metadata": {},
   "outputs": [],
   "source": []
  }
 ],
 "metadata": {
  "kernelspec": {
   "display_name": "Python [conda env:base] *",
   "language": "python",
   "name": "conda-base-py"
  },
  "language_info": {
   "codemirror_mode": {
    "name": "ipython",
    "version": 3
   },
   "file_extension": ".py",
   "mimetype": "text/x-python",
   "name": "python",
   "nbconvert_exporter": "python",
   "pygments_lexer": "ipython3",
   "version": "3.13.5"
  }
 },
 "nbformat": 4,
 "nbformat_minor": 5
}
