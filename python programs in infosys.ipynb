{
 "cells": [
  {
   "cell_type": "markdown",
   "id": "bee7155b-0db9-4c37-a631-b16cd4588ebf",
   "metadata": {},
   "source": [
    "### 1.write a python function that will reverse a string without using the slicing operation or reverse() function"
   ]
  },
  {
   "cell_type": "code",
   "execution_count": 4,
   "id": "d7f1ead3-fc61-47fc-9052-ca7a7d3c427c",
   "metadata": {},
   "outputs": [],
   "source": [
    "def reverse_string(data):\n",
    "    result = \"\"\n",
    "    for char in data:\n",
    "        result = char + result\n",
    "    return result\n"
   ]
  },
  {
   "cell_type": "code",
   "execution_count": 5,
   "id": "1914021e-c3c2-4db6-9278-fdf3139488ef",
   "metadata": {},
   "outputs": [
    {
     "data": {
      "text/plain": [
       "'nohtyp'"
      ]
     },
     "execution_count": 5,
     "metadata": {},
     "output_type": "execute_result"
    }
   ],
   "source": [
    "reverse_string(data='python')"
   ]
  },
  {
   "cell_type": "markdown",
   "id": "cc4a140e-986a-4397-b7fa-6900f41a74cd",
   "metadata": {},
   "source": [
    "### 3.write a program to delete all consonants from a given string . \"python and Data science\""
   ]
  },
  {
   "cell_type": "code",
   "execution_count": 12,
   "id": "9581faa3-49ba-4ff5-a7d9-d3abcf9c43c9",
   "metadata": {},
   "outputs": [],
   "source": [
    "def return_string(data):\n",
    "    vowels = 'aeiouAEIOU'\n",
    "    result = ''.join([char for char in data if not char .isalpha() or char in vowels])\n",
    "    return result"
   ]
  },
  {
   "cell_type": "code",
   "execution_count": 13,
   "id": "7bf13445-4d70-43d8-a5bc-23ebbaa0763f",
   "metadata": {},
   "outputs": [
    {
     "data": {
      "text/plain": [
       "'o a aa iee'"
      ]
     },
     "execution_count": 13,
     "metadata": {},
     "output_type": "execute_result"
    }
   ],
   "source": [
    "return_string(data = 'python and data science')"
   ]
  },
  {
   "cell_type": "markdown",
   "id": "cb538a13-8561-4722-b49d-3e0709c806c9",
   "metadata": {},
   "source": [
    "### 3.write a program that will find the sum of all prime numbers b/w 1 and N"
   ]
  },
  {
   "cell_type": "code",
   "execution_count": 14,
   "id": "2a4e888f-667b-4949-b25c-0b6332a7fba1",
   "metadata": {},
   "outputs": [],
   "source": [
    "def is_prime(number):\n",
    "    for z in range(2,number):\n",
    "        if number%z == 0:\n",
    "            return False\n",
    "        return True"
   ]
  },
  {
   "cell_type": "code",
   "execution_count": 18,
   "id": "1f802586-97dc-418c-b45e-703d3f38aa7c",
   "metadata": {},
   "outputs": [],
   "source": [
    "def add(number):\n",
    "    total = 0\n",
    "    for z in range(2,number+1):\n",
    "        if is_prime(z):\n",
    "            total = total + z\n",
    "    return total"
   ]
  },
  {
   "cell_type": "code",
   "execution_count": 21,
   "id": "a7e34c2d-6ab8-428d-b4cf-11009d2d4d07",
   "metadata": {},
   "outputs": [
    {
     "data": {
      "text/plain": [
       "24"
      ]
     },
     "execution_count": 21,
     "metadata": {},
     "output_type": "execute_result"
    }
   ],
   "source": [
    "add(number = 10)"
   ]
  },
  {
   "cell_type": "code",
   "execution_count": null,
   "id": "5d1c7da9-38a6-42c2-9848-429009a6b3b7",
   "metadata": {},
   "outputs": [],
   "source": []
  }
 ],
 "metadata": {
  "kernelspec": {
   "display_name": "Python [conda env:base] *",
   "language": "python",
   "name": "conda-base-py"
  },
  "language_info": {
   "codemirror_mode": {
    "name": "ipython",
    "version": 3
   },
   "file_extension": ".py",
   "mimetype": "text/x-python",
   "name": "python",
   "nbconvert_exporter": "python",
   "pygments_lexer": "ipython3",
   "version": "3.13.5"
  }
 },
 "nbformat": 4,
 "nbformat_minor": 5
}
